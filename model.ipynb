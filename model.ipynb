{
 "cells": [
  {
   "cell_type": "code",
   "execution_count": 1,
   "metadata": {},
   "outputs": [],
   "source": [
    "import numpy as np \n",
    "import pandas as pd\n",
    "import matplotlib.pyplot as plt"
   ]
  },
  {
   "cell_type": "code",
   "execution_count": 2,
   "metadata": {},
   "outputs": [
    {
     "name": "stdout",
     "output_type": "stream",
     "text": [
      "0\n"
     ]
    },
    {
     "data": {
      "text/plain": [
       "((7861, 10),\n",
       "    G  C  B  A          Ia          Ib          Ic        Va        Vb  \\\n",
       " 0  1  0  0  1 -151.291812   -9.677452   85.800162  0.400750 -0.132935   \n",
       " 1  1  0  0  1 -336.186183  -76.283262   18.328897  0.312732 -0.123633   \n",
       " 2  1  0  0  1 -502.891583 -174.648023  -80.924663  0.265728 -0.114301   \n",
       " 3  1  0  0  1 -593.941905 -217.703359 -124.891924  0.235511 -0.104940   \n",
       " 4  1  0  0  1 -643.663617 -224.159427 -132.282815  0.209537 -0.095554   \n",
       " \n",
       "          Vc  \n",
       " 0 -0.267815  \n",
       " 1 -0.189099  \n",
       " 2 -0.151428  \n",
       " 3 -0.130570  \n",
       " 4 -0.113983  )"
      ]
     },
     "execution_count": 2,
     "metadata": {},
     "output_type": "execute_result"
    }
   ],
   "source": [
    "df_class = pd.read_csv(\"classData.csv\")\n",
    "print(df_class.isnull().sum().sum())\n",
    "df_class.shape,df_class.head(5)"
   ]
  },
  {
   "cell_type": "code",
   "execution_count": 3,
   "metadata": {},
   "outputs": [],
   "source": [
    "x = df_class.iloc[:, 4:]  \n",
    "y = df_class.iloc[:, :4] \n"
   ]
  },
  {
   "cell_type": "code",
   "execution_count": 4,
   "metadata": {},
   "outputs": [],
   "source": [
    "from sklearn.model_selection import train_test_split\n",
    "X_train,X_test,y_train,y_test = train_test_split(x,y,test_size=.20,random_state=21)"
   ]
  },
  {
   "cell_type": "code",
   "execution_count": 7,
   "metadata": {},
   "outputs": [
    {
     "name": "stdout",
     "output_type": "stream",
     "text": [
      "Training Accuracy    : 100.0 %\n",
      "Model Accuracy Score : 89.76 %\n",
      "\u001b[1m--------------------------------------------------------\u001b[0m\n",
      "Classification_Report: \n",
      "               precision    recall  f1-score   support\n",
      "\n",
      "           0       0.90      0.88      0.89       706\n",
      "           1       1.00      1.00      1.00       642\n",
      "           2       1.00      1.00      1.00       890\n",
      "           3       1.00      1.00      1.00       919\n",
      "\n",
      "   micro avg       0.98      0.97      0.97      3157\n",
      "   macro avg       0.97      0.97      0.97      3157\n",
      "weighted avg       0.98      0.97      0.97      3157\n",
      " samples avg       0.70      0.70      0.70      3157\n",
      "\n",
      "\u001b[1m--------------------------------------------------------\u001b[0m\n"
     ]
    },
    {
     "name": "stderr",
     "output_type": "stream",
     "text": [
      "c:\\Python311\\Lib\\site-packages\\sklearn\\metrics\\_classification.py:1497: UndefinedMetricWarning: Precision is ill-defined and being set to 0.0 in samples with no predicted labels. Use `zero_division` parameter to control this behavior.\n",
      "  _warn_prf(average, modifier, f\"{metric.capitalize()} is\", len(result))\n",
      "c:\\Python311\\Lib\\site-packages\\sklearn\\metrics\\_classification.py:1497: UndefinedMetricWarning: Recall is ill-defined and being set to 0.0 in samples with no true labels. Use `zero_division` parameter to control this behavior.\n",
      "  _warn_prf(average, modifier, f\"{metric.capitalize()} is\", len(result))\n",
      "c:\\Python311\\Lib\\site-packages\\sklearn\\metrics\\_classification.py:1497: UndefinedMetricWarning: F-score is ill-defined and being set to 0.0 in samples with no true nor predicted labels. Use `zero_division` parameter to control this behavior.\n",
      "  _warn_prf(average, modifier, f\"{metric.capitalize()} is\", len(result))\n"
     ]
    }
   ],
   "source": [
    "from sklearn.tree import DecisionTreeClassifier\n",
    "from sklearn.metrics import accuracy_score,classification_report,confusion_matrix\n",
    "decision = DecisionTreeClassifier()\n",
    "decision.fit(X_train, y_train)\n",
    "y_pred_dec = decision.predict(X_test)\n",
    "\n",
    "decision_train = round(decision.score(X_train, y_train) * 100, 2)\n",
    "decision_accuracy = round(accuracy_score(y_pred_dec, y_test) * 100, 2)\n",
    "\n",
    "print(\"Training Accuracy    :\",decision_train ,\"%\")\n",
    "print(\"Model Accuracy Score :\",decision_accuracy ,\"%\")\n",
    "print(\"\\033[1m--------------------------------------------------------\\033[0m\")\n",
    "print(\"Classification_Report: \\n\",classification_report(y_test,y_pred_dec))\n",
    "print(\"\\033[1m--------------------------------------------------------\\033[0m\")\n"
   ]
  }
 ],
 "metadata": {
  "kernelspec": {
   "display_name": "Python 3",
   "language": "python",
   "name": "python3"
  },
  "language_info": {
   "codemirror_mode": {
    "name": "ipython",
    "version": 3
   },
   "file_extension": ".py",
   "mimetype": "text/x-python",
   "name": "python",
   "nbconvert_exporter": "python",
   "pygments_lexer": "ipython3",
   "version": "3.11.3"
  }
 },
 "nbformat": 4,
 "nbformat_minor": 2
}
